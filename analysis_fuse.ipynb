{
 "cells": [
  {
   "cell_type": "code",
   "execution_count": 1,
   "metadata": {},
   "outputs": [],
   "source": [
    "import torch\n",
    "from torch import nn\n",
    "from repnet_arch import *"
   ]
  },
  {
   "cell_type": "code",
   "execution_count": 2,
   "metadata": {},
   "outputs": [],
   "source": [
    "rep_blocks = [\n",
    "    'RepConvBNBlock',\n",
    "    'ACBlock',\n",
    "    'RepVGGBlock',\n",
    "    'DiverseBranchBlock',\n",
    "    'ResRepBlock'\n",
    "]"
   ]
  },
  {
   "cell_type": "code",
   "execution_count": 3,
   "metadata": {},
   "outputs": [
    {
     "name": "stdout",
     "output_type": "stream",
     "text": [
      "RepConvBNBlock:\n",
      "\tconvert: tensor(7.0258e-11, grad_fn=<MinBackward1>) ~ tensor(3.5256e-08, grad_fn=<MaxBackward1>) tensor(9.9469e-09, grad_fn=<MeanBackward0>) ± tensor(1.1204e-08, grad_fn=<StdBackward0>)\n",
      "\tdeploy  : tensor(0., grad_fn=<MinBackward1>) ~ tensor(0., grad_fn=<MaxBackward1>) tensor(0., grad_fn=<MeanBackward0>) ± tensor(0., grad_fn=<StdBackward0>)\n",
      "ACBlock:\n",
      "\tconvert: tensor(4.6152e-10, grad_fn=<MinBackward1>) ~ tensor(8.4251e-08, grad_fn=<MaxBackward1>) tensor(2.5009e-08, grad_fn=<MeanBackward0>) ± tensor(2.5993e-08, grad_fn=<StdBackward0>)\n",
      "\tdeploy  : tensor(0., grad_fn=<MinBackward1>) ~ tensor(0., grad_fn=<MaxBackward1>) tensor(0., grad_fn=<MeanBackward0>) ± tensor(0., grad_fn=<StdBackward0>)\n",
      "RepVGGBlock:\n",
      "\tconvert: tensor(8.1415e-09, grad_fn=<MinBackward1>) ~ tensor(1.5122e-08, grad_fn=<MaxBackward1>) tensor(1.1632e-08, grad_fn=<MeanBackward0>) ± tensor(4.9359e-09, grad_fn=<StdBackward0>)\n",
      "\tdeploy  : tensor(0., grad_fn=<MinBackward1>) ~ tensor(0., grad_fn=<MaxBackward1>) tensor(0., grad_fn=<MeanBackward0>) ± tensor(0., grad_fn=<StdBackward0>)\n",
      "DiverseBranchBlock:\n",
      "\tconvert: tensor(5.1663e-09, grad_fn=<MinBackward1>) ~ tensor(1.1736e-07, grad_fn=<MaxBackward1>) tensor(3.4415e-08, grad_fn=<MeanBackward0>) ± tensor(3.1107e-08, grad_fn=<StdBackward0>)\n",
      "\tdeploy  : tensor(0., grad_fn=<MinBackward1>) ~ tensor(0., grad_fn=<MaxBackward1>) tensor(0., grad_fn=<MeanBackward0>) ± tensor(0., grad_fn=<StdBackward0>)\n",
      "ResRepBlock:\n",
      "\tconvert: tensor(4.5532e-09, grad_fn=<MinBackward1>) ~ tensor(5.1275e-09, grad_fn=<MaxBackward1>) tensor(4.8403e-09, grad_fn=<MeanBackward0>) ± tensor(4.0611e-10, grad_fn=<StdBackward0>)\n",
      "\tdeploy  : tensor(0., grad_fn=<MinBackward1>) ~ tensor(0., grad_fn=<MaxBackward1>) tensor(0., grad_fn=<MeanBackward0>) ± tensor(0., grad_fn=<StdBackward0>)\n"
     ]
    }
   ],
   "source": [
    "N, C, H, W = 1, 3, 512, 512\n",
    "out_channels = [1, 3, 8, 16]\n",
    "kernel_paddings = [(1, 0), (1, 1), (3,1), (3,0), (5,1), (5,2), (5,3), (5,4), (5,6)]\n",
    "bias_list = [True, False]\n",
    "\n",
    "comparison_dict = {t: {'convert': [], 'deploy': []} for t in rep_blocks}\n",
    "\n",
    "for kernel, padding in kernel_paddings:\n",
    "    for out_channel in out_channels:\n",
    "        for bias in bias_list:\n",
    "            x = torch.randn(N, C, H, W)\n",
    "            for block_type in rep_blocks:\n",
    "                if block_type == 'RepVGGBlock' and (kernel != 3 or \\\n",
    "                    padding != 1 or out_channel != C):  continue\n",
    "                if block_type == 'DiverseBranchBlock' and \\\n",
    "                    (padding != kernel // 2 or \\\n",
    "                     (out_channel == 1 and out_channel != C)): continue\n",
    "                if block_type == 'ResRepBlock' and \\\n",
    "                    (C != out_channel or kernel != 3 or padding != 1): continue\n",
    "\n",
    "                nd_model = eval(block_type)(\n",
    "                    in_channels=C,\n",
    "                    out_channels=out_channel,\n",
    "                    kernel_size=kernel,\n",
    "                    padding=padding,\n",
    "                    stride=1,\n",
    "                    bias=bias,\n",
    "                    activate='relu',\n",
    "                    deploy=False).eval()\n",
    "                \n",
    "                nd_result = nd_model(x)\n",
    "                nd_model.switch_to_deploy()\n",
    "                cd_result = nd_model(x)\n",
    "\n",
    "                d_model = eval(block_type)(\n",
    "                    in_channels=C,\n",
    "                    out_channels=out_channel,\n",
    "                    kernel_size=kernel,\n",
    "                    padding=padding,\n",
    "                    stride=1,\n",
    "                    bias=bias,\n",
    "                    activate='relu',\n",
    "                    deploy=True).eval()\n",
    "                d_model.load_state_dict(nd_model.state_dict(), strict=True)\n",
    "                d_result = d_model(x)\n",
    "\n",
    "                comparison_dict[block_type]['convert'].append(\n",
    "                    ((nd_result - cd_result) ** 2).sum().view(-1))\n",
    "                comparison_dict[block_type]['deploy'].append(\n",
    "                    ((d_result - cd_result) ** 2).sum().view(-1))\n",
    "\n",
    "for block_type in rep_blocks:\n",
    "    print(f\"{block_type}:\")\n",
    "    convert_data = torch.cat(comparison_dict[block_type]['convert'])\n",
    "    print('\\tconvert:', torch.min(convert_data), '~', torch.max(convert_data),\n",
    "          torch.mean(convert_data), '±', torch.std(convert_data))\n",
    "    deploy_data = torch.cat(comparison_dict[block_type]['deploy'])\n",
    "    print('\\tdeploy  :', torch.min(deploy_data), '~', torch.max(deploy_data),\n",
    "          torch.mean(deploy_data), '±', torch.std(deploy_data))"
   ]
  },
  {
   "cell_type": "code",
   "execution_count": null,
   "metadata": {},
   "outputs": [],
   "source": []
  }
 ],
 "metadata": {
  "kernelspec": {
   "display_name": "basicsr",
   "language": "python",
   "name": "python3"
  },
  "language_info": {
   "codemirror_mode": {
    "name": "ipython",
    "version": 3
   },
   "file_extension": ".py",
   "mimetype": "text/x-python",
   "name": "python",
   "nbconvert_exporter": "python",
   "pygments_lexer": "ipython3",
   "version": "3.10.13"
  }
 },
 "nbformat": 4,
 "nbformat_minor": 2
}
